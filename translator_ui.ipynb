{
 "cells": [
  {
   "cell_type": "code",
   "execution_count": null,
   "id": "6cb91482",
   "metadata": {},
   "outputs": [],
   "source": [
    "from component import tile"
   ]
  },
  {
   "cell_type": "code",
   "execution_count": null,
   "id": "d71b2e8b",
   "metadata": {},
   "outputs": [],
   "source": [
    "user_folder = \"/home/prambaud/modules/sepal_ui_template/component/message\""
   ]
  },
  {
   "cell_type": "code",
   "execution_count": null,
   "id": "8a1928bb",
   "metadata": {},
   "outputs": [],
   "source": [
    "translator_tile = tile.TranslatorTile(user_folder)"
   ]
  },
  {
   "cell_type": "code",
   "execution_count": null,
   "id": "bf7ba7f6",
   "metadata": {},
   "outputs": [],
   "source": [
    "translator_tile.locales"
   ]
  },
  {
   "cell_type": "code",
   "execution_count": null,
   "id": "04be94c3",
   "metadata": {},
   "outputs": [],
   "source": [
    "from component import widget as cw\n",
    "\n",
    "cw.KeyTree(translator_tile.folder, translator_tile.locales)"
   ]
  },
  {
   "cell_type": "code",
   "execution_count": null,
   "id": "5f14a9c4",
   "metadata": {},
   "outputs": [],
   "source": []
  }
 ],
 "metadata": {
  "kernelspec": {
   "display_name": "Python 3",
   "language": "python",
   "name": "python3"
  },
  "language_info": {
   "codemirror_mode": {
    "name": "ipython",
    "version": 3
   },
   "file_extension": ".py",
   "mimetype": "text/x-python",
   "name": "python",
   "nbconvert_exporter": "python",
   "pygments_lexer": "ipython3",
   "version": "3.6.9"
  }
 },
 "nbformat": 4,
 "nbformat_minor": 5
}
