{
 "cells": [
  {
   "cell_type": "code",
   "execution_count": null,
   "id": "assured-might",
   "metadata": {},
   "outputs": [],
   "source": [
    "from component import tile"
   ]
  },
  {
   "cell_type": "code",
   "execution_count": null,
   "id": "global-accountability",
   "metadata": {},
   "outputs": [],
   "source": [
    "translator_tile = tile.TranslatorTile()"
   ]
  },
  {
   "cell_type": "code",
   "execution_count": null,
   "id": "billion-franchise",
   "metadata": {},
   "outputs": [],
   "source": [
    "translator_tile"
   ]
  },
  {
   "cell_type": "code",
   "execution_count": null,
   "id": "simplified-tenant",
   "metadata": {},
   "outputs": [],
   "source": []
  }
 ],
 "metadata": {
  "kernelspec": {
   "display_name": "Python 3",
   "language": "python",
   "name": "python3"
  },
  "language_info": {
   "codemirror_mode": {
    "name": "ipython",
    "version": 3
   },
   "file_extension": ".py",
   "mimetype": "text/x-python",
   "name": "python",
   "nbconvert_exporter": "python",
   "pygments_lexer": "ipython3",
   "version": "3.6.9"
  }
 },
 "nbformat": 4,
 "nbformat_minor": 5
}
