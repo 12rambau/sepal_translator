{
 "cells": [
  {
   "cell_type": "code",
   "execution_count": null,
   "id": "f099d194",
   "metadata": {},
   "outputs": [],
   "source": [
    "from component import tile"
   ]
  },
  {
   "cell_type": "code",
   "execution_count": null,
   "id": "f9997e64",
   "metadata": {},
   "outputs": [],
   "source": [
    "user_folder = \"/home/prambaud/modules/sepal_ui_template/component/message\""
   ]
  },
  {
   "cell_type": "code",
   "execution_count": null,
   "id": "456d9698",
   "metadata": {},
   "outputs": [],
   "source": [
    "translator_tile = tile.TranslatorTile(user_folder)"
   ]
  },
  {
   "cell_type": "code",
   "execution_count": null,
   "id": "5df82c33",
   "metadata": {},
   "outputs": [],
   "source": [
    "translator_tile.locales"
   ]
  },
  {
   "cell_type": "code",
   "execution_count": null,
   "id": "0778008a",
   "metadata": {},
   "outputs": [],
   "source": [
    "translator_tile.folder"
   ]
  },
  {
   "cell_type": "code",
   "execution_count": null,
   "id": "45eb865a",
   "metadata": {},
   "outputs": [],
   "source": []
  }
 ],
 "metadata": {
  "kernelspec": {
   "display_name": "Python 3",
   "language": "python",
   "name": "python3"
  },
  "language_info": {
   "codemirror_mode": {
    "name": "ipython",
    "version": 3
   },
   "file_extension": ".py",
   "mimetype": "text/x-python",
   "name": "python",
   "nbconvert_exporter": "python",
   "pygments_lexer": "ipython3",
   "version": "3.6.9"
  }
 },
 "nbformat": 4,
 "nbformat_minor": 5
}
