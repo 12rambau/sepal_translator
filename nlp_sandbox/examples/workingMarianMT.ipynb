{
 "cells": [
  {
   "cell_type": "code",
   "execution_count": null,
   "id": "77f90ba1",
   "metadata": {},
   "outputs": [],
   "source": [
    "from transformers import MarianTokenizer, MarianMTModel\n",
    "from typing import List"
   ]
  },
  {
   "cell_type": "code",
   "execution_count": null,
   "id": "3677cfcd",
   "metadata": {},
   "outputs": [],
   "source": [
    "src = 'fr'  # source language\n",
    "trg = 'en'  # target language\n",
    "sample_text = \"où est l'arrêt de bus ?\"\n",
    "model_name = f'Helsinki-NLP/opus-mt-{src}-{trg}'"
   ]
  },
  {
   "cell_type": "code",
   "execution_count": null,
   "id": "1addeb26",
   "metadata": {},
   "outputs": [],
   "source": [
    "model = MarianMTModel.from_pretrained(model_name)\n",
    "tokenizer = MarianTokenizer.from_pretrained(model_name)"
   ]
  },
  {
   "cell_type": "code",
   "execution_count": null,
   "id": "029bcf66",
   "metadata": {},
   "outputs": [],
   "source": [
    "batch = tokenizer([sample_text], return_tensors=\"pt\")\n",
    "gen = model.generate(**batch)\n",
    "tokenizer.batch_decode(gen, skip_special_tokens=True)"
   ]
  },
  {
   "cell_type": "code",
   "execution_count": null,
   "id": "cd1cb672",
   "metadata": {},
   "outputs": [],
   "source": [
    "from transformers import MarianMTModel, MarianTokenizer"
   ]
  },
  {
   "cell_type": "code",
   "execution_count": null,
   "id": "c22168f2",
   "metadata": {},
   "outputs": [],
   "source": [
    "src_text = [\n",
    "    '>>fr<< this is a sentence in english that we want to translate to french',\n",
    "]    \n",
    "model_name = 'Helsinki-NLP/opus-mt-en-ROMANCE'\n",
    "tokenizer = MarianTokenizer.from_pretrained(model_name)\n",
    "print(tokenizer.supported_language_codes)\n",
    "model = MarianMTModel.from_pretrained(model_name)\n",
    "translated = model.generate(**tokenizer.prepare_translation_batch(src_text))\n",
    "tgt_text = [tokenizer.decode(t, skip_special_tokens=True) for t in translated]"
   ]
  },
  {
   "cell_type": "code",
   "execution_count": null,
   "id": "7fe80d19",
   "metadata": {},
   "outputs": [],
   "source": []
  }
 ],
 "metadata": {
  "kernelspec": {
   "display_name": "Python 3",
   "language": "python",
   "name": "python3"
  },
  "language_info": {
   "codemirror_mode": {
    "name": "ipython",
    "version": 3
   },
   "file_extension": ".py",
   "mimetype": "text/x-python",
   "name": "python",
   "nbconvert_exporter": "python",
   "pygments_lexer": "ipython3",
   "version": "3.8.8"
  }
 },
 "nbformat": 4,
 "nbformat_minor": 5
}
