{
 "cells": [
  {
   "cell_type": "markdown",
   "id": "fb6d4a02",
   "metadata": {},
   "source": [
    "# retreive the 3 documents from openforis sepal github master branch "
   ]
  },
  {
   "cell_type": "code",
   "execution_count": null,
   "id": "b9dc5f18",
   "metadata": {},
   "outputs": [],
   "source": [
    "from pathlib import Path \n",
    "from component import parameter as cp\n",
    "\n",
    "# create the data_test folder\n",
    "data_test_dir = cp.data_test_dir"
   ]
  },
  {
   "cell_type": "code",
   "execution_count": null,
   "id": "83239edc",
   "metadata": {},
   "outputs": [],
   "source": [
    "data_test_dir.is_dir()"
   ]
  },
  {
   "cell_type": "code",
   "execution_count": null,
   "id": "35299678",
   "metadata": {},
   "outputs": [],
   "source": [
    "from urllib.request import urlretrieve\n",
    "\n",
    "en_json = data_test_dir.joinpath('en.json')\n",
    "fr_json = data_test_dir.joinpath('fr.json')\n",
    "es_json = data_test_dir.joinpath('es.json')\n",
    "\n",
    "boolRetrieve = False\n",
    "\n",
    "if boolRetrieve == True:\n",
    "    urlretrieve (\"https://raw.githubusercontent.com/openforis/sepal/master/modules/gui/frontend/src/locale/en/translations.json\", en_json)\n",
    "    urlretrieve (\"https://raw.githubusercontent.com/openforis/sepal/master/modules/gui/frontend/src/locale/fr/translations.json\", fr_json)\n",
    "    urlretrieve (\"https://raw.githubusercontent.com/openforis/sepal/master/modules/gui/frontend/src/locale/es/translations.json\", es_json)\n",
    "\n",
    "all((en_json.is_file(), fr_json.is_file(), es_json.is_file()))"
   ]
  },
  {
   "cell_type": "code",
   "execution_count": null,
   "id": "f1825bb4",
   "metadata": {},
   "outputs": [],
   "source": [
    "def get_keys(v, prev_key = None, keys = []):\n",
    "    if not (isinstance(v, dict) or isinstance(v, list)):\n",
    "        keys.append(prev_key)\n",
    "        return keys\n",
    "    \n",
    "    new_keys = []\n",
    "    \n",
    "    # create an enum object \n",
    "    if isinstance(v, dict):\n",
    "        enum = v.items()\n",
    "    elif isinstance(v, list):\n",
    "        enum = enumerate(v)\n",
    "        \n",
    "    for k, v2 in enum:\n",
    "        if prev_key != None:\n",
    "            new_key = prev_key + [k]\n",
    "        else:\n",
    "            new_key = [k]\n",
    "        new_keys.extend(get_keys(v2, new_key, []))\n",
    "        \n",
    "    return new_keys"
   ]
  },
  {
   "cell_type": "markdown",
   "id": "9143d192",
   "metadata": {},
   "source": [
    "# create the jsonline file "
   ]
  },
  {
   "cell_type": "code",
   "execution_count": null,
   "id": "e95963e2",
   "metadata": {},
   "outputs": [],
   "source": [
    "# import json\n",
    "\n",
    "# json_line = data_test_dir.joinpath('items.txt')\n",
    "\n",
    "# with json_line.open('w') as dst:\n",
    "#     with en_json.open() as en, fr_json.open() as fr, es_json.open() as es:\n",
    "        \n",
    "#         datasets = {\n",
    "#             'en': json.loads(en.read()),\n",
    "#             'fr': json.loads(fr.read()),\n",
    "#             'es': json.loads(es.read())\n",
    "#         }\n",
    "        \n",
    "#         items = get_keys(datasets['en'])\n",
    "        \n",
    "#         for item in items:\n",
    "            \n",
    "#             line = {'translation': {}}\n",
    "            \n",
    "#             for local in datasets:\n",
    "                \n",
    "#                 data = datasets[local]\n",
    "                \n",
    "#                 for key in item:\n",
    "#                     data = data[key]\n",
    "                    \n",
    "#                 line['translation'][local] = data\n",
    "                \n",
    "#             dst.write(f\"{json.dumps(line)}\\n\")"
   ]
  },
  {
   "cell_type": "markdown",
   "id": "b1d2cdee",
   "metadata": {},
   "source": [
    "# create the csv file"
   ]
  },
  {
   "cell_type": "code",
   "execution_count": null,
   "id": "d77c62bb",
   "metadata": {},
   "outputs": [],
   "source": [
    "import pandas as pd\n",
    "import json"
   ]
  },
  {
   "cell_type": "code",
   "execution_count": null,
   "id": "a644d1d2",
   "metadata": {},
   "outputs": [],
   "source": [
    "df = pd.DataFrame(columns=['en','fr','es'])\n",
    "df\n",
    "\n",
    "with en_json.open() as en, fr_json.open() as fr, es_json.open() as es:\n",
    "\n",
    "    datasets = {\n",
    "        'en': json.loads(en.read()),\n",
    "        'fr': json.loads(fr.read()),\n",
    "        'es': json.loads(es.read())\n",
    "    }\n",
    "\n",
    "    items = get_keys(datasets['en'])\n",
    "\n",
    "    for item in items:\n",
    "\n",
    "        line = {}\n",
    "\n",
    "        for local in datasets:\n",
    "\n",
    "            data = datasets[local]\n",
    "\n",
    "            for key in item:\n",
    "                data = data[key]\n",
    "\n",
    "            line[local] = data\n",
    "        \n",
    "        df = df.append(line, ignore_index=True)\n"
   ]
  },
  {
   "cell_type": "code",
   "execution_count": null,
   "id": "174bd491",
   "metadata": {},
   "outputs": [],
   "source": [
    "line"
   ]
  },
  {
   "cell_type": "code",
   "execution_count": null,
   "id": "9247435f",
   "metadata": {},
   "outputs": [],
   "source": [
    "df"
   ]
  },
  {
   "cell_type": "code",
   "execution_count": null,
   "id": "63f00a17",
   "metadata": {},
   "outputs": [],
   "source": [
    "df.to_csv('data_test/training_data.csv')"
   ]
  },
  {
   "cell_type": "code",
   "execution_count": null,
   "id": "1bd90069",
   "metadata": {},
   "outputs": [],
   "source": []
  }
 ],
 "metadata": {
  "kernelspec": {
   "display_name": "Python 3",
   "language": "python",
   "name": "python3"
  },
  "language_info": {
   "codemirror_mode": {
    "name": "ipython",
    "version": 3
   },
   "file_extension": ".py",
   "mimetype": "text/x-python",
   "name": "python",
   "nbconvert_exporter": "python",
   "pygments_lexer": "ipython3",
   "version": "3.8.8"
  }
 },
 "nbformat": 4,
 "nbformat_minor": 5
}
