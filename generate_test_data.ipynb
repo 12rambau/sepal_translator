{
 "cells": [
  {
   "cell_type": "markdown",
   "id": "51e913c3",
   "metadata": {},
   "source": [
    "# retreive the 3 documents from openforis sepal github master branch "
   ]
  },
  {
   "cell_type": "code",
   "execution_count": null,
   "id": "7fc8dc63",
   "metadata": {},
   "outputs": [],
   "source": [
    "from pathlib import Path \n",
    "from component import parameter as cp\n",
    "\n",
    "# create the data_test folder\n",
    "data_test_dir = cp.data_test_dir"
   ]
  },
  {
   "cell_type": "code",
   "execution_count": null,
   "id": "12e52374",
   "metadata": {},
   "outputs": [],
   "source": [
    "data_test_dir.is_dir()"
   ]
  },
  {
   "cell_type": "code",
   "execution_count": null,
   "id": "2f165ba0",
   "metadata": {},
   "outputs": [],
   "source": [
    "from urllib.request import urlretrieve\n",
    "\n",
    "en_json = data_test_dir.joinpath('en.json')\n",
    "fr_json = data_test_dir.joinpath('fr.json')\n",
    "es_json = data_test_dir.joinpath('es.json')\n",
    "\n",
    "urlretrieve (\"https://raw.githubusercontent.com/openforis/sepal/master/modules/gui/frontend/src/locale/en/translations.json\", en_json)\n",
    "urlretrieve (\"https://raw.githubusercontent.com/openforis/sepal/master/modules/gui/frontend/src/locale/fr/translations.json\", fr_json)\n",
    "urlretrieve (\"https://raw.githubusercontent.com/openforis/sepal/master/modules/gui/frontend/src/locale/es/translations.json\", es_json)\n",
    "\n",
    "all((en_json.is_file(), fr_json.is_file(), es_json.is_file()))"
   ]
  },
  {
   "cell_type": "markdown",
   "id": "f7b75bd8",
   "metadata": {},
   "source": [
    "# create the jsonline file "
   ]
  },
  {
   "cell_type": "code",
   "execution_count": null,
   "id": "c7144a2c",
   "metadata": {},
   "outputs": [],
   "source": [
    "def get_keys(v, prev_key = None, keys = []):\n",
    "    if not (isinstance(v, dict) or isinstance(v, list)):\n",
    "        keys.append(prev_key)\n",
    "        return keys\n",
    "    \n",
    "    new_keys = []\n",
    "    \n",
    "    # create an enum object \n",
    "    if isinstance(v, dict):\n",
    "        enum = v.items()\n",
    "    elif isinstance(v, list):\n",
    "        enum = enumerate(v)\n",
    "        \n",
    "    for k, v2 in enum:\n",
    "        if prev_key != None:\n",
    "            new_key = prev_key + [k]\n",
    "        else:\n",
    "            new_key = [k]\n",
    "        new_keys.extend(get_keys(v2, new_key, []))\n",
    "        \n",
    "    return new_keys"
   ]
  },
  {
   "cell_type": "code",
   "execution_count": null,
   "id": "08103f0f",
   "metadata": {},
   "outputs": [],
   "source": [
    "import json\n",
    "\n",
    "json_line = data_test_dir.joinpath('items.txt')\n",
    "\n",
    "with json_line.open('w') as dst:\n",
    "    with en_json.open() as en, fr_json.open() as fr, es_json.open() as es:\n",
    "        \n",
    "        datasets = {\n",
    "            'en': json.loads(en.read()),\n",
    "            'fr': json.loads(fr.read()),\n",
    "            'es': json.loads(es.read())\n",
    "        }\n",
    "        \n",
    "        items = get_keys(datasets['en'])\n",
    "        \n",
    "        for item in items:\n",
    "            \n",
    "            line = {'translation': {}}\n",
    "            \n",
    "            for local in datasets:\n",
    "                \n",
    "                data = datasets[local]\n",
    "                \n",
    "                for key in item:\n",
    "                    data = data[key]\n",
    "                    \n",
    "                line['translation'][local] = data\n",
    "                \n",
    "            dst.write(f\"{json.dumps(line)}\\n\")"
   ]
  },
  {
   "cell_type": "code",
   "execution_count": null,
   "id": "48e38566",
   "metadata": {},
   "outputs": [],
   "source": []
  }
 ],
 "metadata": {
  "kernelspec": {
   "display_name": "Python 3",
   "language": "python",
   "name": "python3"
  },
  "language_info": {
   "codemirror_mode": {
    "name": "ipython",
    "version": 3
   },
   "file_extension": ".py",
   "mimetype": "text/x-python",
   "name": "python",
   "nbconvert_exporter": "python",
   "pygments_lexer": "ipython3",
   "version": "3.6.9"
  }
 },
 "nbformat": 4,
 "nbformat_minor": 5
}
